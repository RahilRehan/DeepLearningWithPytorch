{
  "nbformat": 4,
  "nbformat_minor": 0,
  "metadata": {
    "colab": {
      "name": "cifar10.ipynb",
      "provenance": [],
      "collapsed_sections": [],
      "include_colab_link": true
    },
    "kernelspec": {
      "name": "python3",
      "display_name": "Python 3"
    },
    "accelerator": "GPU"
  },
  "cells": [
    {
      "cell_type": "markdown",
      "metadata": {
        "id": "view-in-github",
        "colab_type": "text"
      },
      "source": [
        "<a href=\"https://colab.research.google.com/github/RahilRehan/DeepLearningWithPytorch/blob/master/cifar10.ipynb\" target=\"_parent\"><img src=\"https://colab.research.google.com/assets/colab-badge.svg\" alt=\"Open In Colab\"/></a>"
      ]
    },
    {
      "cell_type": "code",
      "metadata": {
        "id": "BsEGnMmEod3E",
        "colab_type": "code",
        "colab": {}
      },
      "source": [
        "import torch\n",
        "from torchvision import datasets, transforms\n",
        "from torch import nn\n",
        "import torch.nn.functional as F\n",
        "from torch import optim\n",
        "import matplotlib.pyplot as plt\n",
        "import numpy as np\n",
        "from torch.utils.data.sampler import SubsetRandomSampler"
      ],
      "execution_count": 0,
      "outputs": []
    },
    {
      "cell_type": "code",
      "metadata": {
        "id": "rGGpfyiWs8C-",
        "colab_type": "code",
        "outputId": "2ab4b40f-6d71-4acf-84d9-e87c8c17d845",
        "colab": {
          "base_uri": "https://localhost:8080/",
          "height": 139
        }
      },
      "source": [
        "transform = transforms.Compose([\n",
        "                                transforms.RandomHorizontalFlip(), # randomly flip and rotate\n",
        "                                transforms.RandomRotation(10),\n",
        "                                transforms.ToTensor(),\n",
        "                                transforms.Normalize((0.4914, 0.4822, 0.4465), (0.247, 0.243, 0.261))\n",
        "                                      ])\n",
        "\n",
        "trainset = datasets.CIFAR10(\"/data/train\", download=True, train=True, transform=transform)\n",
        "testset = datasets.CIFAR10(\"/data/test\", download=True, train=False, transform=transform)"
      ],
      "execution_count": 0,
      "outputs": [
        {
          "output_type": "stream",
          "text": [
            "\r0it [00:00, ?it/s]"
          ],
          "name": "stderr"
        },
        {
          "output_type": "stream",
          "text": [
            "Downloading https://www.cs.toronto.edu/~kriz/cifar-10-python.tar.gz to /data/train/cifar-10-python.tar.gz\n"
          ],
          "name": "stdout"
        },
        {
          "output_type": "stream",
          "text": [
            "170500096it [00:04, 40007505.21it/s]                               \n"
          ],
          "name": "stderr"
        },
        {
          "output_type": "stream",
          "text": [
            "Extracting /data/train/cifar-10-python.tar.gz to /data/train\n"
          ],
          "name": "stdout"
        },
        {
          "output_type": "stream",
          "text": [
            "\r0it [00:00, ?it/s]"
          ],
          "name": "stderr"
        },
        {
          "output_type": "stream",
          "text": [
            "Downloading https://www.cs.toronto.edu/~kriz/cifar-10-python.tar.gz to /data/test/cifar-10-python.tar.gz\n"
          ],
          "name": "stdout"
        },
        {
          "output_type": "stream",
          "text": [
            "170500096it [00:04, 42227810.32it/s]                               \n"
          ],
          "name": "stderr"
        },
        {
          "output_type": "stream",
          "text": [
            "Extracting /data/test/cifar-10-python.tar.gz to /data/test\n"
          ],
          "name": "stdout"
        }
      ]
    },
    {
      "cell_type": "code",
      "metadata": {
        "id": "-nIZIjl62j2l",
        "colab_type": "code",
        "colab": {}
      },
      "source": [
        "#Global Variables\n",
        "num_workers = 0  #no idea what this is used to\n",
        "valid_size = 0.2\n",
        "batch_size = 32\n",
        "epochs = 30\n",
        "valid_loss_min = np.inf"
      ],
      "execution_count": 0,
      "outputs": []
    },
    {
      "cell_type": "code",
      "metadata": {
        "id": "Fc8hGRd81YOE",
        "colab_type": "code",
        "colab": {}
      },
      "source": [
        "#Dividing training dataset into validation set and training set\n",
        "\n",
        "total_size = len(trainset)  #length of whole training dataset , =>50000\n",
        "indices = list(range(total_size))  #indices from 0-5000\n",
        "#print(indices[:5]) #indices before shuffle\n",
        "np.random.shuffle(indices)  #shuffle indices to get validation set randomly, inplace operation\n",
        "#print(indices[:5]) ##indices after shuffle\n",
        "\n",
        "split_size = int(valid_size*total_size)\n",
        "train_indices, valid_indices = indices[:split_size], indices[split_size:]\n",
        "\n",
        "#pytorch magic to obtain data from indices, SubSampler!\n",
        "train_sampler = SubsetRandomSampler(train_indices)\n",
        "valid_sampler = SubsetRandomSampler(valid_indices)"
      ],
      "execution_count": 0,
      "outputs": []
    },
    {
      "cell_type": "code",
      "metadata": {
        "id": "65qMK_ZW4RfD",
        "colab_type": "code",
        "colab": {}
      },
      "source": [
        "#DataLoader\n",
        "trainloader = torch.utils.data.DataLoader(trainset, batch_size=batch_size, sampler=train_sampler, num_workers=num_workers)\n",
        "validloader = torch.utils.data.DataLoader(trainset, batch_size=batch_size, sampler=valid_sampler, num_workers=num_workers)\n",
        "testloader = torch.utils.data.DataLoader(testset, batch_size=batch_size, num_workers=num_workers)"
      ],
      "execution_count": 0,
      "outputs": []
    },
    {
      "cell_type": "code",
      "metadata": {
        "id": "5iIvJEC45Zm7",
        "colab_type": "code",
        "outputId": "746c7e45-41f9-4606-b87d-9f186c3ab075",
        "colab": {
          "base_uri": "https://localhost:8080/",
          "height": 305
        }
      },
      "source": [
        "#Let us have look at the data and make sense of it\n",
        "images, labels = next(iter(trainloader))\n",
        "print(\"Shapes of data: \", images.shape, labels.shape)\n",
        "\n",
        "print(labels[:5])\n",
        "#Note that the labels has numbers rather than names, this makes our classification easier but we cannot interpret whats inside the image\n",
        "\n",
        "#Got these class names from google, indices are according labels in dataset\n",
        "classes = ['airplane', 'automobile', 'bird', 'cat', 'deer',\n",
        "           'dog', 'frog', 'horse', 'ship', 'truck']\n",
        "\n",
        "#let us view some images\n",
        "\n",
        "def convert_to_imshow_format(image):\n",
        "    # first convert back to [0,1] range from [-1,1] range\n",
        "    image = image / 2 + 0.5\n",
        "    image = image.numpy()\n",
        "    # convert from CHW to HWC\n",
        "    # from 3x32x32 to 32x32x3\n",
        "    return image.transpose(1,2,0)\n",
        "\n",
        "images,labels = images[0:5], labels[0:5]\n",
        "\n",
        "fig, axes = plt.subplots(1, len(images), figsize=(12,2.5))\n",
        "for idx, image in enumerate(images):\n",
        "    axes[idx].imshow(convert_to_imshow_format(image))\n",
        "    axes[idx].set_title(classes[labels[idx]])\n",
        "    axes[idx].set_xticks([])\n",
        "    axes[idx].set_yticks([])\n"
      ],
      "execution_count": 0,
      "outputs": [
        {
          "output_type": "stream",
          "text": [
            "Clipping input data to the valid range for imshow with RGB data ([0..1] for floats or [0..255] for integers).\n",
            "Clipping input data to the valid range for imshow with RGB data ([0..1] for floats or [0..255] for integers).\n",
            "Clipping input data to the valid range for imshow with RGB data ([0..1] for floats or [0..255] for integers).\n",
            "Clipping input data to the valid range for imshow with RGB data ([0..1] for floats or [0..255] for integers).\n",
            "Clipping input data to the valid range for imshow with RGB data ([0..1] for floats or [0..255] for integers).\n"
          ],
          "name": "stderr"
        },
        {
          "output_type": "stream",
          "text": [
            "Shapes of data:  torch.Size([32, 3, 32, 32]) torch.Size([32])\n",
            "tensor([8, 9, 4, 1, 5])\n"
          ],
          "name": "stdout"
        },
        {
          "output_type": "display_data",
          "data": {
            "image/png": "[encoded data removed]",
            "text/plain": [
              "<Figure size 864x180 with 5 Axes>"
            ]
          },
          "metadata": {
            "tags": []
          }
        }
      ]
    },
    {
      "cell_type": "code",
      "metadata": {
        "id": "tppbiqrlwF6k",
        "colab_type": "code",
        "colab": {}
      },
      "source": [
        "#Yay! Now Let us define the model to train on\n",
        "#note this is very small model, accuracy may not be high because of low computaion power available... using this model just to test\n",
        "\n",
        "\n",
        "#note that single input image size was 32*32*3 where height and width are 32 pixels and 3 color channels RGB as depth\n",
        "#In my final model I want 64 chanels\n",
        "#I use maxpool to decrease width and hight dimensions\n",
        "#Finally we connect our output from conv layers to fully connected layers to get 1 Dimensional output\n",
        "\n",
        "\n",
        "class Classifier(nn.Module):\n",
        "  def __init__(self):\n",
        "    super(Classifier, self).__init__()\n",
        "    self.conv1 = nn.Conv2d(3, 16, 3, padding=1)  \n",
        "    self.conv2 = nn.Conv2d(16, 32, 3, padding=1) \n",
        "    self.conv3 = nn.Conv2d(32, 64, 3, padding=1) \n",
        "\n",
        "    self.pool = nn.MaxPool2d(2, stride = 2)\n",
        "    self.fc1 = nn.Linear(64*4*4, 512)\n",
        "    self.fc2 = nn.Linear(512, 10)\n",
        "\n",
        "    self.dropout = nn.Dropout(p=0.25)\n",
        "\n",
        "  def forward(self, x):\n",
        "    x = self.pool(F.relu(self.conv1(x)))  #input is 3*32*32      output is 16*16*16\n",
        "    x = self.pool(F.relu(self.conv2(x)))  #input is 16*16*16     output is 32*8*8\n",
        "    x = self.pool(F.relu(self.conv3(x)))  #input is 32*8*8       output is 64*4*4\n",
        "\n",
        "    x = self.dropout(x)\n",
        "    x = x.view(-1, 64*4*4)\n",
        "\n",
        "    x = self.dropout(F.relu(self.fc1(x)))\n",
        "    x = self.fc2(x)\n",
        "    return x\n",
        "    \n"
      ],
      "execution_count": 0,
      "outputs": []
    },
    {
      "cell_type": "code",
      "metadata": {
        "id": "Ik2jaDOG91Hs",
        "colab_type": "code",
        "outputId": "3983c0b8-d6e5-439d-ccf9-7888bc638e5f",
        "colab": {
          "base_uri": "https://localhost:8080/",
          "height": 207
        }
      },
      "source": [
        "#Initial model and check GPU\n",
        "model = Classifier()\n",
        "print(model)\n",
        "\n",
        "\n",
        "device = \"cuda\" if torch.cuda.is_available() else \"cpu\"\n",
        "print(device)\n",
        "\n",
        "train_on_gpu = True if device == \"cuda\" else False\n",
        "\n",
        "if(train_on_gpu):\n",
        "  model.to(device)"
      ],
      "execution_count": 0,
      "outputs": [
        {
          "output_type": "stream",
          "text": [
            "Classifier(\n",
            "  (conv1): Conv2d(3, 16, kernel_size=(3, 3), stride=(1, 1), padding=(1, 1))\n",
            "  (conv2): Conv2d(16, 32, kernel_size=(3, 3), stride=(1, 1), padding=(1, 1))\n",
            "  (conv3): Conv2d(32, 64, kernel_size=(3, 3), stride=(1, 1), padding=(1, 1))\n",
            "  (pool): MaxPool2d(kernel_size=2, stride=2, padding=0, dilation=1, ceil_mode=False)\n",
            "  (fc1): Linear(in_features=1024, out_features=512, bias=True)\n",
            "  (fc2): Linear(in_features=512, out_features=10, bias=True)\n",
            "  (dropout): Dropout(p=0.25, inplace=False)\n",
            ")\n",
            "cuda\n"
          ],
          "name": "stdout"
        }
      ]
    },
    {
      "cell_type": "code",
      "metadata": {
        "id": "XUCyV3InE6Fe",
        "colab_type": "code",
        "colab": {}
      },
      "source": [
        "#optimizers and loss initialization\n",
        "optimizer = optim.SGD(model.parameters(), lr=0.01)\n",
        "criterion = nn.CrossEntropyLoss()"
      ],
      "execution_count": 0,
      "outputs": []
    },
    {
      "cell_type": "code",
      "metadata": {
        "id": "1ip2RNd0FV3l",
        "colab_type": "code",
        "outputId": "922ba0b6-d2d5-4ebc-836e-6dd59c4b355f",
        "colab": {
          "base_uri": "https://localhost:8080/",
          "height": 955
        }
      },
      "source": [
        "for e in range(epochs):\n",
        "  train_loss = 0.0\n",
        "  valid_loss = 0.0\n",
        "  for data, target in trainloader:\n",
        "    if train_on_gpu:\n",
        "      data, target = data.to(device), target.to(device)\n",
        "\n",
        "    optimizer.zero_grad()\n",
        "\n",
        "    output = model(data)\n",
        "    loss = criterion(output, target)\n",
        "    loss.backward()\n",
        "    optimizer.step()\n",
        "    train_loss += loss.item()*data.shape[0]\n",
        "\n",
        "\n",
        "  model.eval()\n",
        "  with torch.no_grad():\n",
        "    for data, target in validloader:\n",
        "      if train_on_gpu:\n",
        "        data, target = data.to(device), target.to(device)\n",
        "\n",
        "      output = model(data)\n",
        "      loss = criterion(output, target)\n",
        "      valid_loss += loss.item()*data.shape[0]\n",
        "  model.train()\n",
        "\n",
        "  train_loss = train_loss/len(trainloader.sampler)\n",
        "  valid_loss = valid_loss/len(validloader.sampler)\n",
        "\n",
        "  print(\"Epoch {0}   Training loss: {1}, Validation loss: {2}\".format(e, train_loss, valid_loss))\n",
        "\n",
        "  if(valid_loss < valid_loss_min):\n",
        "    print(\"Validation Loss decreased from {0} to {1}, Saving Model........\".format(valid_loss_min, valid_loss))\n",
        "    torch.save(model.state_dict(), 'model_aug.pt')\n",
        "    valid_loss_min = valid_loss\n"
      ],
      "execution_count": 0,
      "outputs": [
        {
          "output_type": "stream",
          "text": [
            "Epoch 0   Training loss: 2.2973416862487794, Validation loss: 2.287272257423401\n",
            "Validation Loss decreased from inf to 2.287272257423401, Saving Model........\n",
            "Epoch 1   Training loss: 2.2564107955932617, Validation loss: 2.1840078747749327\n",
            "Validation Loss decreased from 2.287272257423401 to 2.1840078747749327, Saving Model........\n",
            "Epoch 2   Training loss: 2.053321664047241, Validation loss: 1.9340928545951843\n",
            "Validation Loss decreased from 2.1840078747749327 to 1.9340928545951843, Saving Model........\n",
            "Epoch 3   Training loss: 1.892741130065918, Validation loss: 1.837496978855133\n",
            "Validation Loss decreased from 1.9340928545951843 to 1.837496978855133, Saving Model........\n",
            "Epoch 4   Training loss: 1.7779617141723634, Validation loss: 1.7141507767677306\n",
            "Validation Loss decreased from 1.837496978855133 to 1.7141507767677306, Saving Model........\n",
            "Epoch 5   Training loss: 1.6984104095458985, Validation loss: 1.6887458391189576\n",
            "Validation Loss decreased from 1.7141507767677306 to 1.6887458391189576, Saving Model........\n",
            "Epoch 6   Training loss: 1.6484466787338257, Validation loss: 1.6072369680404663\n",
            "Validation Loss decreased from 1.6887458391189576 to 1.6072369680404663, Saving Model........\n",
            "Epoch 7   Training loss: 1.600958394241333, Validation loss: 1.57768575258255\n",
            "Validation Loss decreased from 1.6072369680404663 to 1.57768575258255, Saving Model........\n",
            "Epoch 8   Training loss: 1.555814581489563, Validation loss: 1.5152014506340026\n",
            "Validation Loss decreased from 1.57768575258255 to 1.5152014506340026, Saving Model........\n",
            "Epoch 9   Training loss: 1.5110995750427245, Validation loss: 1.47633631401062\n",
            "Validation Loss decreased from 1.5152014506340026 to 1.47633631401062, Saving Model........\n",
            "Epoch 10   Training loss: 1.4772342054367065, Validation loss: 1.5364526916980743\n",
            "Epoch 11   Training loss: 1.437850612640381, Validation loss: 1.4229092264175416\n",
            "Validation Loss decreased from 1.47633631401062 to 1.4229092264175416, Saving Model........\n",
            "Epoch 12   Training loss: 1.4082570631027223, Validation loss: 1.4157308228492738\n",
            "Validation Loss decreased from 1.4229092264175416 to 1.4157308228492738, Saving Model........\n",
            "Epoch 13   Training loss: 1.388289902496338, Validation loss: 1.3721560726165771\n",
            "Validation Loss decreased from 1.4157308228492738 to 1.3721560726165771, Saving Model........\n",
            "Epoch 14   Training loss: 1.3617396326065063, Validation loss: 1.3491308289051056\n",
            "Validation Loss decreased from 1.3721560726165771 to 1.3491308289051056, Saving Model........\n",
            "Epoch 15   Training loss: 1.3399245111465454, Validation loss: 1.3128818202972412\n",
            "Validation Loss decreased from 1.3491308289051056 to 1.3128818202972412, Saving Model........\n",
            "Epoch 16   Training loss: 1.310021389579773, Validation loss: 1.3572207812786101\n",
            "Epoch 17   Training loss: 1.284589443397522, Validation loss: 1.2803850586414338\n",
            "Validation Loss decreased from 1.3128818202972412 to 1.2803850586414338, Saving Model........\n",
            "Epoch 18   Training loss: 1.2635659955978393, Validation loss: 1.2439963827133178\n",
            "Validation Loss decreased from 1.2803850586414338 to 1.2439963827133178, Saving Model........\n",
            "Epoch 19   Training loss: 1.2399044847488403, Validation loss: 1.296475522661209\n",
            "Epoch 20   Training loss: 1.2220510192871095, Validation loss: 1.2611271492004394\n",
            "Epoch 21   Training loss: 1.2032426551818847, Validation loss: 1.2122407036304474\n",
            "Validation Loss decreased from 1.2439963827133178 to 1.2122407036304474, Saving Model........\n",
            "Epoch 22   Training loss: 1.18280636177063, Validation loss: 1.2251495038986207\n",
            "Epoch 23   Training loss: 1.1577417650222779, Validation loss: 1.2121477583885192\n",
            "Validation Loss decreased from 1.2122407036304474 to 1.2121477583885192, Saving Model........\n",
            "Epoch 24   Training loss: 1.140248641014099, Validation loss: 1.1749266469478608\n",
            "Validation Loss decreased from 1.2121477583885192 to 1.1749266469478608, Saving Model........\n",
            "Epoch 25   Training loss: 1.126826466178894, Validation loss: 1.1686587641239166\n",
            "Validation Loss decreased from 1.1749266469478608 to 1.1686587641239166, Saving Model........\n",
            "Epoch 26   Training loss: 1.1179139638900757, Validation loss: 1.1626789682388305\n",
            "Validation Loss decreased from 1.1686587641239166 to 1.1626789682388305, Saving Model........\n",
            "Epoch 27   Training loss: 1.0904398376464843, Validation loss: 1.1250857701778412\n",
            "Validation Loss decreased from 1.1626789682388305 to 1.1250857701778412, Saving Model........\n",
            "Epoch 28   Training loss: 1.0875216566085815, Validation loss: 1.1182701838970184\n",
            "Validation Loss decreased from 1.1250857701778412 to 1.1182701838970184, Saving Model........\n",
            "Epoch 29   Training loss: 1.0613882131576537, Validation loss: 1.1873346216201783\n"
          ],
          "name": "stdout"
        }
      ]
    },
    {
      "cell_type": "code",
      "metadata": {
        "id": "1CYDzez_O_cg",
        "colab_type": "code",
        "outputId": "dbc17fe2-0211-4858-93c6-dc43e9b25c2b",
        "colab": {
          "base_uri": "https://localhost:8080/",
          "height": 34
        }
      },
      "source": [
        "model.load_state_dict(torch.load('model_aug.pt'))"
      ],
      "execution_count": 0,
      "outputs": [
        {
          "output_type": "execute_result",
          "data": {
            "text/plain": [
              "<All keys matched successfully>"
            ]
          },
          "metadata": {
            "tags": []
          },
          "execution_count": 17
        }
      ]
    },
    {
      "cell_type": "code",
      "metadata": {
        "id": "4vmQNjy3TZhF",
        "colab_type": "code",
        "outputId": "81cebb4e-92cb-4372-8a25-27dddf3346e8",
        "colab": {
          "base_uri": "https://localhost:8080/",
          "height": 251
        }
      },
      "source": [
        "correct = 0\n",
        "total = 0\n",
        "class_correct = list(0. for i in range(10))\n",
        "class_total = list(0. for i in range(10))\n",
        "with torch.no_grad():\n",
        "    for data in testloader:\n",
        "        images, labels = data\n",
        "        images, labels = images.to(device), labels.to(device)\n",
        "        outputs = model(images)\n",
        "        _, predicted = torch.max(outputs, 1)\n",
        "        c = (predicted == labels).squeeze()\n",
        "        for i in range(images.shape(0)):\n",
        "            label = labels[i]\n",
        "            class_correct[label] += c[i].item()\n",
        "            class_total[label] += 1\n",
        "\n",
        "\n",
        "for i in range(10):\n",
        "    print('Accuracy of %5s : %2d %%' % (\n",
        "        classes[i], 100 * class_correct[i] / class_total[i]))"
      ],
      "execution_count": 0,
      "outputs": [
        {
          "output_type": "error",
          "ename": "TypeError",
          "evalue": "ignored",
          "traceback": [
            "\u001b[0;31m---------------------------------------------------------------------------\u001b[0m",
            "\u001b[0;31mTypeError\u001b[0m                                 Traceback (most recent call last)",
            "\u001b[0;32m<ipython-input-22-be1fb4bae446>\u001b[0m in \u001b[0;36m<module>\u001b[0;34m()\u001b[0m\n\u001b[1;32m     10\u001b[0m         \u001b[0m_\u001b[0m\u001b[0;34m,\u001b[0m \u001b[0mpredicted\u001b[0m \u001b[0;34m=\u001b[0m \u001b[0mtorch\u001b[0m\u001b[0;34m.\u001b[0m\u001b[0mmax\u001b[0m\u001b[0;34m(\u001b[0m\u001b[0moutputs\u001b[0m\u001b[0;34m,\u001b[0m \u001b[0;36m1\u001b[0m\u001b[0;34m)\u001b[0m\u001b[0;34m\u001b[0m\u001b[0;34m\u001b[0m\u001b[0m\n\u001b[1;32m     11\u001b[0m         \u001b[0mc\u001b[0m \u001b[0;34m=\u001b[0m \u001b[0;34m(\u001b[0m\u001b[0mpredicted\u001b[0m \u001b[0;34m==\u001b[0m \u001b[0mlabels\u001b[0m\u001b[0;34m)\u001b[0m\u001b[0;34m.\u001b[0m\u001b[0msqueeze\u001b[0m\u001b[0;34m(\u001b[0m\u001b[0;34m)\u001b[0m\u001b[0;34m\u001b[0m\u001b[0;34m\u001b[0m\u001b[0m\n\u001b[0;32m---> 12\u001b[0;31m         \u001b[0;32mfor\u001b[0m \u001b[0mi\u001b[0m \u001b[0;32min\u001b[0m \u001b[0mrange\u001b[0m\u001b[0;34m(\u001b[0m\u001b[0mimages\u001b[0m\u001b[0;34m.\u001b[0m\u001b[0mshape\u001b[0m\u001b[0;34m(\u001b[0m\u001b[0;36m0\u001b[0m\u001b[0;34m)\u001b[0m\u001b[0;34m)\u001b[0m\u001b[0;34m:\u001b[0m\u001b[0;34m\u001b[0m\u001b[0;34m\u001b[0m\u001b[0m\n\u001b[0m\u001b[1;32m     13\u001b[0m             \u001b[0mlabel\u001b[0m \u001b[0;34m=\u001b[0m \u001b[0mlabels\u001b[0m\u001b[0;34m[\u001b[0m\u001b[0mi\u001b[0m\u001b[0;34m]\u001b[0m\u001b[0;34m\u001b[0m\u001b[0;34m\u001b[0m\u001b[0m\n\u001b[1;32m     14\u001b[0m             \u001b[0mclass_correct\u001b[0m\u001b[0;34m[\u001b[0m\u001b[0mlabel\u001b[0m\u001b[0;34m]\u001b[0m \u001b[0;34m+=\u001b[0m \u001b[0mc\u001b[0m\u001b[0;34m[\u001b[0m\u001b[0mi\u001b[0m\u001b[0;34m]\u001b[0m\u001b[0;34m.\u001b[0m\u001b[0mitem\u001b[0m\u001b[0;34m(\u001b[0m\u001b[0;34m)\u001b[0m\u001b[0;34m\u001b[0m\u001b[0;34m\u001b[0m\u001b[0m\n",
            "\u001b[0;31mTypeError\u001b[0m: 'torch.Size' object is not callable"
          ]
        }
      ]
    },
    {
      "cell_type": "code",
      "metadata": {
        "id": "k30IB-Xapg2S",
        "colab_type": "code",
        "outputId": "257831c2-94a2-4b39-fb0d-43135a7b9e9a",
        "colab": {
          "base_uri": "https://localhost:8080/",
          "height": 34
        }
      },
      "source": [
        "images, lables = next(iter(testloader))\n",
        "print(images.shape[0])"
      ],
      "execution_count": 0,
      "outputs": [
        {
          "output_type": "stream",
          "text": [
            "32\n"
          ],
          "name": "stdout"
        }
      ]
    },
    {
      "cell_type": "code",
      "metadata": {
        "id": "QOZ1cSrEZwao",
        "colab_type": "code",
        "colab": {}
      },
      "source": [
        "#overall accuracy\n",
        "totac = 0\n",
        "for i in range(10):\n",
        "  totac += 100 * class_correct[i] / class_total[i])\n",
        "  "
      ],
      "execution_count": 0,
      "outputs": []
    }
  ]
}